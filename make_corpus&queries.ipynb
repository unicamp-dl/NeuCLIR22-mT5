{
 "cells": [
  {
   "cell_type": "code",
   "execution_count": 2,
   "id": "938a9c5b-0a95-4b72-b3a9-6db5c97ac9c7",
   "metadata": {},
   "outputs": [],
   "source": [
    "import pandas as pd\n",
    "import jsonlines\n",
    "from pathlib import Path"
   ]
  },
  {
   "cell_type": "code",
   "execution_count": 5,
   "id": "b8235802-1c02-4dab-9839-1f30cb06e04b",
   "metadata": {},
   "outputs": [],
   "source": [
    "# For corpus\n",
    "language_ids = ['fa','ru','zh']\n",
    "for language_id in language_ids:\n",
    "    Path(f\"{language_id}\").mkdir(parents=True, exist_ok=True)\n",
    "    with jsonlines.open(f'{language_id}/docs.jsonl') as reader, jsonlines.open(f'{language_id}/docs_parsed.jsonl', 'w') as writer:\n",
    "        for obj in reader:\n",
    "            if language_id == 'fa': writer.write({'id':obj['id'], 'contents': (obj['title'] + '. ' + obj['text']).strip()})\n",
    "            elif language_id == 'ru': writer.write({'id':obj['id'], 'contents': (obj['title'] + '. ' + obj['text']).strip()})\n",
    "            # Chinese is backwards\n",
    "            elif language_id == 'zh': writer.write({'id':obj['id'], 'contents': (obj['text'] + ' ' + obj['title'])})"
   ]
  },
  {
   "cell_type": "code",
   "execution_count": 4,
   "id": "23213151-7c04-4400-8328-b949a69d23d7",
   "metadata": {},
   "outputs": [],
   "source": [
    "# For queries\n",
    "language_ids = ['fa','ru','zh']\n",
    "dfs=[]\n",
    "with jsonlines.open('topics.0720.utf8.jsonl') as reader:\n",
    "    for obj in reader:\n",
    "        _dict = {'query_id': obj['topic_id']}\n",
    "        for num, query in enumerate(obj['topics']):\n",
    "            if num==0:\n",
    "                assert query['source'] == 'original'\n",
    "                assert query['lang'] == 'eng'\n",
    "                _dict['title'] = query['topic_title']\n",
    "                _dict['description'] = query['topic_description']\n",
    "                _dict['title+desc'] = query['topic_title'] + '. ' + query['topic_description']\n",
    "            elif num==1:\n",
    "                assert query['source'] == 'human translation'\n",
    "                assert query['lang'] == 'fas'\n",
    "                _dict['fa_title'] = query['topic_title']\n",
    "                _dict['fa_description'] = query['topic_description']\n",
    "                _dict['fa_title+desc'] = query['topic_title'] + '. ' + query['topic_description']\n",
    "            elif num==2:\n",
    "                assert query['source'] == 'human translation'\n",
    "                assert query['lang'] == 'rus'\n",
    "                _dict['ru_title'] = query['topic_title']\n",
    "                _dict['ru_description'] = query['topic_description']\n",
    "                _dict['ru_title+desc'] = query['topic_title'] + '. ' + query['topic_description']\n",
    "            elif num==3:\n",
    "                assert query['source'] == 'human translation'\n",
    "                assert query['lang'] == 'zho'\n",
    "                _dict['zh_title'] = query['topic_title']\n",
    "                _dict['zh_description'] = query['topic_description']\n",
    "                _dict['zh_title+desc'] = query['topic_description'] + ' ' + query['topic_title']\n",
    "            elif num==4:\n",
    "                assert query['source'] == 'google translation'\n",
    "                assert query['lang'] == 'fas'\n",
    "                _dict['fa_mt_title'] = query['topic_title']\n",
    "                _dict['fa_mt_description'] = query['topic_description']\n",
    "                _dict['fa_mt_title+desc'] = query['topic_title'] + '. ' + query['topic_description']\n",
    "            elif num==5:\n",
    "                assert query['source'] == 'google translation'\n",
    "                assert query['lang'] == 'rus'\n",
    "                _dict['ru_mt_title'] = query['topic_title']\n",
    "                _dict['ru_mt_description'] = query['topic_description']\n",
    "                _dict['ru_mt_title+desc'] = query['topic_title'] + '. ' + query['topic_description']\n",
    "            elif num==6:\n",
    "                assert query['source'] == 'google translation'\n",
    "                assert query['lang'] == 'zho'\n",
    "                _dict['zh_mt_title'] = query['topic_title']\n",
    "                _dict['zh_mt_description'] = query['topic_description']\n",
    "                _dict['zh_mt_title+desc'] = query['topic_description'] + ' ' + query['topic_title']\n",
    "        dfs.append(_dict)\n",
    "dfs = pd.DataFrame.from_dict(dfs)"
   ]
  },
  {
   "cell_type": "code",
   "execution_count": 8,
   "id": "3b51870b-d175-4f9b-b266-61c4543086d7",
   "metadata": {},
   "outputs": [],
   "source": [
    "# Make topics\n",
    "language_ids = ['fa','ru','zh']\n",
    "for language_id in language_ids:\n",
    "    Path(f\"{language_id}/topics\").mkdir(parents=True, exist_ok=True)\n",
    "    dfs['title+desc'] = dfs['title'] + '. ' + dfs['description']\n",
    "    dfs[['query_id', 'title']].to_csv(f'{language_id}/topics/topics_en_title.tsv', sep='\\t', header=None, index=None)\n",
    "    dfs[['query_id', 'description']].to_csv(f'{language_id}/topics/topics_en_desc.tsv', sep='\\t', header=None, index=None)    \n",
    "    dfs[['query_id', 'title+desc']].to_csv(f'{language_id}/topics/topics_en_desc_title.tsv', sep='\\t', header=None, index=None)\n",
    "    dfs[['query_id', f'{language_id}_title']].to_csv(f'{language_id}/topics/topics_ht_title.tsv', sep='\\t', header=None, index=None)\n",
    "    dfs[['query_id', f'{language_id}_description']].to_csv(f'{language_id}/topics/topics_ht_desc.tsv', sep='\\t', header=None, index=None)\n",
    "    dfs[['query_id', f'{language_id}_title+desc']].to_csv(f'{language_id}/topics/topics_ht_desc_title.tsv', sep='\\t', header=None, index=None)\n",
    "    dfs[['query_id', f'{language_id}_mt_title']].to_csv(f'{language_id}/topics/topics_mt_title.tsv', sep='\\t', header=None, index=None)\n",
    "    dfs[['query_id', f'{language_id}_mt_description']].to_csv(f'{language_id}/topics/topics_mt_desc.tsv', sep='\\t', header=None, index=None)    \n",
    "    dfs[['query_id', f'{language_id}_mt_title+desc']].to_csv(f'{language_id}/topics/topics_mt_desc_title.tsv', sep='\\t', header=None, index=None)\n"
   ]
  }
 ],
 "metadata": {
  "environment": {
   "kernel": "conda-env-pyserini-py",
   "name": "pytorch-gpu.1-9.m82",
   "type": "gcloud",
   "uri": "gcr.io/deeplearning-platform-release/pytorch-gpu.1-9:m82"
  },
  "kernelspec": {
   "display_name": "pyserini",
   "language": "python",
   "name": "python3"
  },
  "language_info": {
   "codemirror_mode": {
    "name": "ipython",
    "version": 3
   },
   "file_extension": ".py",
   "mimetype": "text/x-python",
   "name": "python",
   "nbconvert_exporter": "python",
   "pygments_lexer": "ipython3",
   "version": "3.8.16"
  },
  "vscode": {
   "interpreter": {
    "hash": "4cd17694052e224d702f51e42f16cdf63f52bd9d834982992f54366d055aa0ed"
   }
  }
 },
 "nbformat": 4,
 "nbformat_minor": 5
}
